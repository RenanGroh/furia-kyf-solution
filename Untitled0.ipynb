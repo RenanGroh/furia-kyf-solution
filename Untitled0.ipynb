{
  "nbformat": 4,
  "nbformat_minor": 0,
  "metadata": {
    "colab": {
      "provenance": [],
      "mount_file_id": "1EAE39IDpemEXYal1PRzdEvCxVEuQIUaL",
      "authorship_tag": "ABX9TyOFQc6gnk+0XB3Y9aBcoOqe",
      "include_colab_link": true
    },
    "kernelspec": {
      "name": "python3",
      "display_name": "Python 3"
    },
    "language_info": {
      "name": "python"
    }
  },
  "cells": [
    {
      "cell_type": "markdown",
      "metadata": {
        "id": "view-in-github",
        "colab_type": "text"
      },
      "source": [
        "<a href=\"https://colab.research.google.com/github/RenanGroh/furia-kyf-solution/blob/main/Untitled0.ipynb\" target=\"_parent\"><img src=\"https://colab.research.google.com/assets/colab-badge.svg\" alt=\"Open In Colab\"/></a>"
      ]
    },
    {
      "cell_type": "code",
      "source": [
        "!pip install google-generativeai python-dotenv beautifulsoup4 requests pandas -q"
      ],
      "metadata": {
        "id": "RS9uAfD9Rudl"
      },
      "execution_count": 2,
      "outputs": []
    },
    {
      "cell_type": "code",
      "source": [
        "!ls -la"
      ],
      "metadata": {
        "colab": {
          "base_uri": "https://localhost:8080/"
        },
        "id": "dxo8p2h9U48S",
        "outputId": "819ea03b-016c-4fc5-df63-3a56c8ee27f3"
      },
      "execution_count": 4,
      "outputs": [
        {
          "output_type": "stream",
          "name": "stdout",
          "text": [
            "total 24\n",
            "drwxr-xr-x 1 root root 4096 May  2 18:41 .\n",
            "drwxr-xr-x 1 root root 4096 May  2 18:43 ..\n",
            "drwxr-xr-x 4 root root 4096 Apr 30 13:37 .config\n",
            "drwx------ 6 root root 4096 May  2 18:41 drive\n",
            "-rw-r--r-- 1 root root  530 May  2 18:40 .env\n",
            "drwxr-xr-x 1 root root 4096 Apr 30 13:37 sample_data\n"
          ]
        }
      ]
    },
    {
      "cell_type": "markdown",
      "source": [
        "# Challenge #2: Know Your Fan (FURIA)\n",
        "\n",
        "Este notebook demonstra uma solução para coletar e analisar informações sobre um fã de e-sports, focando na FURIA, conforme proposto no desafio. Devido à sensibilidade de dados PII e limitações de API, várias etapas serão simuladas."
      ],
      "metadata": {
        "id": "2sbhhmWPR9I6"
      }
    }
  ]
}